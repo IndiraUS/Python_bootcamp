{
 "cells": [
  {
   "cell_type": "markdown",
   "id": "9ae389a3",
   "metadata": {},
   "source": [
    "# Assignments"
   ]
  },
  {
   "cell_type": "markdown",
   "id": "66182166",
   "metadata": {},
   "source": [
    "### 1. Write a Python program which accepts the radius of a circle from the user and compute the area."
   ]
  },
  {
   "cell_type": "code",
   "execution_count": 2,
   "id": "5988de1d",
   "metadata": {},
   "outputs": [
    {
     "name": "stdout",
     "output_type": "stream",
     "text": [
      "Finding out the Area of a circle \n",
      "********************************\n",
      "Enter the Radius: 5\n",
      "The area of the circle (area = pie*r*r):  78.5\n"
     ]
    }
   ],
   "source": [
    "print('Finding out the Area of a circle \\n********************************')\n",
    "\n",
    "r = float(input('Enter the Radius: '))\n",
    "pie = 3.14\n",
    "\n",
    "area = pie * r * r\n",
    "\n",
    "print('The area of the circle (area = pie*r*r): ',area)\n"
   ]
  },
  {
   "cell_type": "markdown",
   "id": "1ca3cfd2",
   "metadata": {},
   "source": [
    "### 2. Write a Python program to multiplies all the items in a list. "
   ]
  },
  {
   "cell_type": "code",
   "execution_count": 3,
   "id": "7b8de802",
   "metadata": {},
   "outputs": [
    {
     "name": "stdout",
     "output_type": "stream",
     "text": [
      "Product of itms in the list:  3600\n"
     ]
    }
   ],
   "source": [
    "my_list = {4,5,2,9,10}\n",
    "\n",
    "product =1\n",
    "for item in my_list:\n",
    "    product = product * item\n",
    "print('Product of items in the list: ',product)    "
   ]
  },
  {
   "cell_type": "markdown",
   "id": "2b8092bf",
   "metadata": {},
   "source": [
    "### 3. Write a Python program to get the smallest number from a list. "
   ]
  },
  {
   "cell_type": "code",
   "execution_count": 2,
   "id": "6e6acd85",
   "metadata": {},
   "outputs": [
    {
     "name": "stdout",
     "output_type": "stream",
     "text": [
      "The smallest number in the list is  -10\n"
     ]
    }
   ],
   "source": [
    "my_list = [3,9,1,-10,4,8]\n",
    "\n",
    "smallest_num = min(my_list)\n",
    "        \n",
    "print('The smallest number in the list is ',smallest_num)"
   ]
  },
  {
   "cell_type": "markdown",
   "id": "0e93051a",
   "metadata": {},
   "source": [
    "### 4. Write a Python program to calculate the length of a string."
   ]
  },
  {
   "cell_type": "code",
   "execution_count": 6,
   "id": "fb9cd4d4",
   "metadata": {},
   "outputs": [
    {
     "name": "stdout",
     "output_type": "stream",
     "text": [
      "Enter a string:www.google.com\n",
      "The length of the string using len() is 14 characters\n",
      "The length of the string is 14 characters\n"
     ]
    }
   ],
   "source": [
    "my_string = input(\"Enter a string:\")\n",
    "\n",
    "count=0              \n",
    "length = len(my_string)\n",
    "for char in my_string:\n",
    "    count += 1\n",
    "print(f'The length of the string using len() is {length} characters')\n",
    "print(f'The length of the string is {count} characters')\n"
   ]
  },
  {
   "cell_type": "markdown",
   "id": "e533bba9",
   "metadata": {},
   "source": [
    "### 5. Write a Python program to count the number of characters (character frequency) in a string."
   ]
  },
  {
   "cell_type": "code",
   "execution_count": 4,
   "id": "d7944b5d",
   "metadata": {},
   "outputs": [
    {
     "name": "stdout",
     "output_type": "stream",
     "text": [
      "Enter a String: www.google.com\n",
      "The number of characters in the string are as below\n",
      "{'w': 3, '.': 2, 'g': 2, 'o': 3, 'l': 1, 'e': 1, 'c': 1, 'm': 1}\n"
     ]
    }
   ],
   "source": [
    "my_string = input('Enter a String: ')\n",
    "\n",
    "char_frequency = {}         # creating an empty dictionary\n",
    "\n",
    "for i in range(0,len(my_string)):     \n",
    "    count = my_string.count(my_string[i])\n",
    "    #Enter that into a dictinary as key,value pair like (character : count)\n",
    "    char_frequency[my_string[i]] = count\n",
    "    count = 0\n",
    "    \n",
    "print('The number of characters in the string are as below')\n",
    "print(char_frequency)  \n",
    "# As dictinary won't support duplicate keys,even if the character repeats it won't  get entered into the dictionary\n",
    "    \n"
   ]
  },
  {
   "cell_type": "markdown",
   "id": "33d868be",
   "metadata": {},
   "source": [
    "#  Home Works"
   ]
  },
  {
   "cell_type": "markdown",
   "id": "68cfbecd",
   "metadata": {},
   "source": [
    "### Q1. Compute the simple interest using the formula interest = p * n * r / 100 where p is principal, n is tenure of loan, and r is rate of interest. Accept p, n, r from users and then perform the interest calculation."
   ]
  },
  {
   "cell_type": "code",
   "execution_count": 8,
   "id": "a866a817",
   "metadata": {},
   "outputs": [
    {
     "name": "stdout",
     "output_type": "stream",
     "text": [
      "Enter Principal Amount(P): 100\n",
      "Enter tenure of Loan in years(N): 2\n",
      "Enter the rate of interest(R): 5\n",
      "The Simple Interest Calculated :  10.0\n"
     ]
    }
   ],
   "source": [
    "P = eval(input('Enter Principal Amount(P): '))\n",
    "N = eval(input('Enter tenure of Loan in years(N): '))\n",
    "R = eval(input('Enter the rate of interest(R): '))\n",
    "\n",
    "SI = (P * N * R)/100\n",
    "\n",
    "print('The Simple Interest Calculated : ', SI)"
   ]
  },
  {
   "cell_type": "markdown",
   "id": "d82a3fd0",
   "metadata": {},
   "source": [
    " ### Q2. Write a program that asks user weight in kilogram and converts into pounds. There are 2.2 pound in one kilogram."
   ]
  },
  {
   "cell_type": "code",
   "execution_count": 9,
   "id": "795fd1f9",
   "metadata": {},
   "outputs": [
    {
     "name": "stdout",
     "output_type": "stream",
     "text": [
      "Enter weight in Kilogram: 10\n",
      "Weight in Pound : 22.0\n"
     ]
    }
   ],
   "source": [
    "weight_kg = float(input('Enter weight in Kilogram: '))\n",
    "\n",
    "weight_pound = weight_kg * 2.2\n",
    "\n",
    "print('Weight in Pound :',weight_pound)"
   ]
  },
  {
   "cell_type": "markdown",
   "id": "0354b2a0",
   "metadata": {},
   "source": [
    "### Q3 Accept string input from user and then print the following with the user entered string\n",
    "###    - length of string\n",
    "###    - repeat the string 5 times\n",
    "###    - first and last characters of the string\n",
    "###     - first and last three characters of string\n",
    "###     - string backwards\n",
    "###     - string with last character removed "
   ]
  },
  {
   "cell_type": "code",
   "execution_count": 1,
   "id": "1339bece",
   "metadata": {},
   "outputs": [
    {
     "name": "stdout",
     "output_type": "stream",
     "text": [
      "Enter a String: www.google.com\n",
      "length of the string is  14\n",
      "String repaeted by 5 times is:\n",
      " www.google.comwww.google.comwww.google.comwww.google.comwww.google.com\n",
      "First chracter of the string is  w\n",
      "Last charater of string is  m\n",
      "First and last 3 characters of string are  w  and com\n",
      "String backwards is  moc.elgoog.www\n",
      "String with last character remved is  www.google.co\n"
     ]
    }
   ],
   "source": [
    "my_string = input('Enter a String: ')\n",
    "l = len(my_string)\n",
    "if l == 0:\n",
    "    print(\"Empty string\")\n",
    "elif l < 3: \n",
    "    print('Enter a string with more than 3 characters')\n",
    "    exit()\n",
    "else:\n",
    "    print('length of the string is ',l,)\n",
    "    print('String repaeted by 5 times is:\\n',5*my_string)\n",
    "    print('First chracter of the string is ', my_string[0])\n",
    "    print('Last charater of string is ',my_string[-1])\n",
    "    print('First and last 3 characters of string are ',my_string[0],' and', my_string[-3:])\n",
    "    print('String backwards is ',my_string[::-1])\n",
    "    print('String with last character remved is ',my_string[:l-1])\n"
   ]
  },
  {
   "cell_type": "markdown",
   "id": "ed7527be",
   "metadata": {},
   "source": [
    "### Q4. Ask user to input two strings - first string is statement in which the second string needs to be looked upon. Then using the string methods determine whether second string is present in first string or not. Inform the user about the result"
   ]
  },
  {
   "cell_type": "code",
   "execution_count": 7,
   "id": "a4318edb",
   "metadata": {},
   "outputs": [
    {
     "name": "stdout",
     "output_type": "stream",
     "text": [
      "Enter 1st string: my mom is my role model\n",
      "Enter 2nd string to be looked upon in my mom is my role modelrole model\n",
      "role model is present in my mom is my role model\n"
     ]
    }
   ],
   "source": [
    "string1 = input('Enter 1st string: ')\n",
    "string2 = input(f'Enter 2nd string to be looked upon in {string1}')\n",
    "\n",
    "if string2 in string1:\n",
    "    print(f'{string2} is present in {string1}')\n",
    "else:\n",
    "    print(f'{string2} is not present in {string1}')"
   ]
  },
  {
   "cell_type": "markdown",
   "id": "f14ff07d",
   "metadata": {},
   "source": [
    "### Q5. Ask the user to input a string , then output the same string in lowercase, uppercase and reverse manner."
   ]
  },
  {
   "cell_type": "code",
   "execution_count": 2,
   "id": "af26db55",
   "metadata": {},
   "outputs": [
    {
     "name": "stdout",
     "output_type": "stream",
     "text": [
      "Enter a string:MyApple\n",
      "The string in Lower case :  myapple\n",
      "The string in Upper case :  MYAPPLE\n",
      "The Reverse string :  elppAyM\n"
     ]
    }
   ],
   "source": [
    "my_string = input('Enter a string:')\n",
    "\n",
    "print('The string in Lower case : ', my_string.lower())\n",
    "print('The string in Upper case : ', my_string.upper())\n",
    "print('The Reverse string : ', my_string[::-1])\n",
    "\n"
   ]
  },
  {
   "cell_type": "markdown",
   "id": "f1569017",
   "metadata": {},
   "source": [
    "### Q6. Consider following set definitions.\n",
    "### language set - python, java, c, c++\n",
    "### data science language set - python, r\n",
    "\n",
    "### Answer the following questions with help of appropriate code. \n",
    "### (a) What are all programming languages are available?\n",
    "### (b) How many data science languages are available?\n",
    "### (c) List languages which are not data science languages?\n",
    "### (d) List languages which are both programming language and data science languages.\n",
    "### (e) List languges which are only data science languages."
   ]
  },
  {
   "cell_type": "code",
   "execution_count": 24,
   "id": "89d24faf",
   "metadata": {},
   "outputs": [
    {
     "name": "stdout",
     "output_type": "stream",
     "text": [
      "The available programing languages:  {'R', 'Python', 'C', 'Java', 'C++'}\n",
      "The data science programming languages are:  {'R', 'Python'}\n",
      "The langauages among all which are not data science langauages are: {'C', 'Java', 'C++'}\n",
      "The Languages which are both data science and programming languages:  {'Python'}\n",
      "The Languages which are only data science languages:  {'R'}\n"
     ]
    }
   ],
   "source": [
    "set_gen_pgm_lng = {'Python','Java','C','C++'}\n",
    "set_ds_pgm_lng = {'Python','R'}\n",
    "\n",
    "print('The available programing languages: ',set_gen_pgm_lng|set_ds_pgm_lng)\n",
    "print('The data science programming languages are: ',set_ds_pgm_lng)\n",
    "print('The langauages among all which are not data science langauages are:',(set_gen_pgm_lng|set_ds_pgm_lng)-set_ds_pgm_lng)\n",
    "print('The Languages which are both data science and programming languages: ',set_gen_pgm_lng & set_ds_pgm_lng)\n",
    "print('The Languages which are only data science languages: ',(set_gen_pgm_lng|set_ds_pgm_lng)-set_gen_pgm_lng)"
   ]
  },
  {
   "cell_type": "markdown",
   "id": "847d74ff",
   "metadata": {},
   "source": [
    "### Q7. Write a program that asks user to enter a length in centimeters. If negative value is entered, the program should tell the user that the entry is invalid. Otherwise the program should convert the length to inches and print out the result. There are 2.54 centimeters in inches."
   ]
  },
  {
   "cell_type": "code",
   "execution_count": 28,
   "id": "fc63e927",
   "metadata": {},
   "outputs": [
    {
     "name": "stdout",
     "output_type": "stream",
     "text": [
      "Enter value in cm:100\n",
      "The value in inch is  39.37\n"
     ]
    }
   ],
   "source": [
    "cm = float(input('Enter value in cm:'))\n",
    "\n",
    "if cm < 0:\n",
    "    print('Invalid input')\n",
    "else:    \n",
    "    inch = cm/2.54\n",
    "    print('The value in inch is ', round(inch,2))"
   ]
  },
  {
   "cell_type": "markdown",
   "id": "9437202b",
   "metadata": {},
   "source": [
    "### Q8. Write a program that accepts sentence from the user as input and then print the unique words present in that sentense along with the number of times they appeared in the sentence. Don't use any of the built in fuction instead use for loop and if conditions."
   ]
  },
  {
   "cell_type": "code",
   "execution_count": 27,
   "id": "a77b73f4",
   "metadata": {},
   "outputs": [
    {
     "name": "stdout",
     "output_type": "stream",
     "text": [
      "Enter a sentence:my name is my name only\n",
      "['my', 'name', 'is', 'my', 'name', 'only']\n",
      "The word - is  - occurs 1 times\n",
      "The word - only  - occurs 1 times\n",
      "The list of unique words =  ['is', 'only']\n"
     ]
    }
   ],
   "source": [
    "sentence = input('Enter a sentence:')\n",
    "\n",
    "wordlist = sentence.split()\n",
    "print(wordlist)\n",
    "no_of_words = len(wordlist)\n",
    "list_unique_words =list()\n",
    "\n",
    "count = 0\n",
    "uw_count = 0\n",
    "for word in wordlist:\n",
    "    for i in range(no_of_words):\n",
    "            if word == wordlist[i]:\n",
    "                count = count+1\n",
    "    if count == 1:\n",
    "        print(f'The word - {word}  - occurs {count} times')\n",
    "        list_unique_words.append(word)\n",
    "        uw_count=uw_count+1\n",
    "    count = 0\n",
    "print('The list of unique words = ',list_unique_words)"
   ]
  },
  {
   "cell_type": "markdown",
   "id": "bae21675",
   "metadata": {},
   "source": [
    "### Q9.Write a program that accepts sentence from the user as input and then print the location of each vowel in the sentence."
   ]
  },
  {
   "cell_type": "code",
   "execution_count": 30,
   "id": "e0c35d24",
   "metadata": {},
   "outputs": [
    {
     "name": "stdout",
     "output_type": "stream",
     "text": [
      "Enter a sentence:I am a girl\n",
      "index of vowels : \n",
      "0  \n",
      "2  \n",
      "5  \n",
      "8  \n"
     ]
    }
   ],
   "source": [
    "sentence = input('Enter a sentence:')\n",
    "vowel = {'a','e','i','o','u','A','E','I','O','U'}\n",
    "\n",
    "print('index of vowels : ')\n",
    "for i in range(len(sentence)):\n",
    "    if sentence[i] in vowel:\n",
    "        print(i,' ')        "
   ]
  },
  {
   "cell_type": "markdown",
   "id": "36dcf3c4",
   "metadata": {},
   "source": [
    "### Q10. Write a program that asks user to enter a word and determines whether the word is palindrome or not. A palindrome is a word that read the same backwards as forwards."
   ]
  },
  {
   "cell_type": "code",
   "execution_count": 21,
   "id": "83b3d6aa",
   "metadata": {},
   "outputs": [
    {
     "name": "stdout",
     "output_type": "stream",
     "text": [
      "Enter A Word:amma\n",
      "The word is a palindrome\n"
     ]
    }
   ],
   "source": [
    "word = input(\"Enter A Word:\")\n",
    "\n",
    "if word == word[::-1]:\n",
    "    print('The word is a palindrome')\n",
    "else:\n",
    "    print('The word is not a palindrome')"
   ]
  },
  {
   "cell_type": "markdown",
   "id": "76538ba2",
   "metadata": {},
   "source": [
    "### Q11. Write a program using while loop that prints square and cube of numbers between 1 to 10."
   ]
  },
  {
   "cell_type": "code",
   "execution_count": 32,
   "id": "6857d52b",
   "metadata": {},
   "outputs": [
    {
     "name": "stdout",
     "output_type": "stream",
     "text": [
      "The square and cube of numbers from 1 to 10\n",
      "--------------------------------------\n",
      "Square of 1 is 1\n",
      "Cube of 1 is 1\n",
      "\n",
      "Square of 2 is 4\n",
      "Cube of 2 is 8\n",
      "\n",
      "Square of 3 is 9\n",
      "Cube of 3 is 27\n",
      "\n",
      "Square of 4 is 16\n",
      "Cube of 4 is 64\n",
      "\n",
      "Square of 5 is 25\n",
      "Cube of 5 is 125\n",
      "\n",
      "Square of 6 is 36\n",
      "Cube of 6 is 216\n",
      "\n",
      "Square of 7 is 49\n",
      "Cube of 7 is 343\n",
      "\n",
      "Square of 8 is 64\n",
      "Cube of 8 is 512\n",
      "\n",
      "Square of 9 is 81\n",
      "Cube of 9 is 729\n",
      "\n",
      "Square of 10 is 100\n",
      "Cube of 10 is 1000\n",
      "\n"
     ]
    }
   ],
   "source": [
    "print('The square and cube of numbers from 1 to 10\\n--------------------------------------')\n",
    "num = 1\n",
    "while num<=10:\n",
    "    print(f'Square of {num} is {num*num}')\n",
    "    print(f'Cube of {num} is {num*num*num}\\n')\n",
    "    num += 1"
   ]
  },
  {
   "cell_type": "markdown",
   "id": "10c52462",
   "metadata": {},
   "source": [
    "### Q12. Use a for loop to print a triangle using @, like the one below. Allow the user to specify how high the triangle should be.\n",
    "### @\n",
    "### @@\n",
    "### @@@\n",
    "### @@@@\n"
   ]
  },
  {
   "cell_type": "code",
   "execution_count": 54,
   "id": "83cd936a",
   "metadata": {},
   "outputs": [
    {
     "name": "stdout",
     "output_type": "stream",
     "text": [
      "Enter the height of the Triangle: 10\n",
      "\n",
      "@\n",
      "@@\n",
      "@@@\n",
      "@@@@\n",
      "@@@@@\n",
      "@@@@@@\n",
      "@@@@@@@\n",
      "@@@@@@@@\n",
      "@@@@@@@@@\n",
      "@@@@@@@@@@\n"
     ]
    }
   ],
   "source": [
    "h = int(input('Enter the height of the Triangle: '))\n",
    "if h <= 0:\n",
    "    print('Please enter a value greater than 0')\n",
    "else:\n",
    "    for i in range(h+1):\n",
    "        print(i*'@')\n",
    "        i += 1\n",
    "    "
   ]
  },
  {
   "cell_type": "markdown",
   "id": "5f25dadc",
   "metadata": {},
   "source": [
    "### Q13. Write a program that asks the user to enter the password. If the user enters the right password, the program should tell them they are logged in to the system. Otherwise, the program should ask them to reenter the password. The user should get only five tries to enter the password, after which point the program should tell them that they are kicked off of the system."
   ]
  },
  {
   "cell_type": "code",
   "execution_count": 9,
   "id": "a95e53c4",
   "metadata": {},
   "outputs": [
    {
     "name": "stdout",
     "output_type": "stream",
     "text": [
      "Enter Password : Grace@20\n",
      "Enter Password : Grace@2020\n",
      "You are Successfully Logged in to the System.\n"
     ]
    }
   ],
   "source": [
    "password_org = 'Grace@2020'\n",
    "\n",
    "for count in range(5):\n",
    "    password = input(\"Enter Password : \")\n",
    "    if password == password_org:\n",
    "        print('You are Successfully Logged in to the System.')\n",
    "        break\n",
    "    else:\n",
    "        count += 1\n",
    "        if count == 5:\n",
    "            print('You can try only 5 times to enter password, its over and you are kicked off the system now')\n",
    "        else:\n",
    "            continue\n",
    "            "
   ]
  },
  {
   "cell_type": "markdown",
   "id": "dc1c7f03",
   "metadata": {},
   "source": [
    "### Q14.Write a Python program to find those numbers which are divisible by 7 and multiple of 5, between 1500 and 2700 (both included)."
   ]
  },
  {
   "cell_type": "code",
   "execution_count": 14,
   "id": "dd4f9eb0",
   "metadata": {},
   "outputs": [
    {
     "name": "stdout",
     "output_type": "stream",
     "text": [
      "The numbers from 1500 to 2000 which are divisible by 7 and multiple of 5 are\n",
      "1505\n",
      "1540\n",
      "1575\n",
      "1610\n",
      "1645\n",
      "1680\n",
      "1715\n",
      "1750\n",
      "1785\n",
      "1820\n",
      "1855\n",
      "1890\n",
      "1925\n",
      "1960\n",
      "1995\n"
     ]
    }
   ],
   "source": [
    "num = 1500\n",
    "num_end = 2000\n",
    "print(f'The numbers from {num} to {num_end} which are divisible by 7 and multiple of 5 are')\n",
    "while num <= num_end:\n",
    "    if (num%7 == 0) and (num%5 == 0):\n",
    "        print(num)\n",
    "    num += 1\n"
   ]
  },
  {
   "cell_type": "markdown",
   "id": "6339b7af",
   "metadata": {},
   "source": [
    "### Q15.Write a Python program which iterates the integers from 1 to 50.\n",
    "\n",
    "### For multiples of three print \"Fizz\" instead of the number and for the multiples of five print \"Buzz\".\n",
    "\n",
    "### For numbers which are multiples of both three and five print \"FizzBuzz\".\n",
    "\n",
    "### Sample Output :\n",
    "\n",
    "### fizzbuzz\n",
    "### 1\n",
    "### 2\n",
    "### fizz\n",
    "### 4\n",
    "### buzz"
   ]
  },
  {
   "cell_type": "code",
   "execution_count": 12,
   "id": "2c036bcb",
   "metadata": {},
   "outputs": [
    {
     "name": "stdout",
     "output_type": "stream",
     "text": [
      "1\n",
      "2\n",
      "fizz\n",
      "4\n",
      "buzz\n",
      "fizz\n",
      "7\n",
      "8\n",
      "fizz\n",
      "buzz\n",
      "11\n",
      "fizz\n",
      "13\n",
      "14\n",
      "fizzbuzz\n",
      "16\n",
      "17\n",
      "fizz\n",
      "19\n",
      "buzz\n",
      "fizz\n",
      "22\n",
      "23\n",
      "fizz\n",
      "buzz\n",
      "26\n",
      "fizz\n",
      "28\n",
      "29\n",
      "fizzbuzz\n",
      "31\n",
      "32\n",
      "fizz\n",
      "34\n",
      "buzz\n",
      "fizz\n",
      "37\n",
      "38\n",
      "fizz\n",
      "buzz\n",
      "41\n",
      "fizz\n",
      "43\n",
      "44\n",
      "fizzbuzz\n",
      "46\n",
      "47\n",
      "fizz\n",
      "49\n",
      "buzz\n"
     ]
    }
   ],
   "source": [
    "for number in range(1,51):\n",
    "    if number%3 == 0 and number%5 == 0:\n",
    "        print('fizzbuzz')\n",
    "    else:\n",
    "        if number%3 == 0 and number%5 != 0:\n",
    "            print('fizz')\n",
    "        elif  number%3 != 0 and number%5 == 0:\n",
    "            print('buzz')\n",
    "        else:\n",
    "            print(number)"
   ]
  },
  {
   "cell_type": "markdown",
   "id": "36a0fc25",
   "metadata": {},
   "source": [
    "### Q16. Write a program that asks user to enter the 5 product names and prices. Store all of these in a dictionary with keys are product names and prices are values. Then allow the user to input the product name and print the corresponding price of the product."
   ]
  },
  {
   "cell_type": "code",
   "execution_count": 2,
   "id": "8658a720",
   "metadata": {},
   "outputs": [
    {
     "name": "stdout",
     "output_type": "stream",
     "text": [
      "Please enter 5 product names and its prizes below\n",
      "Enter product Name: pen\n",
      "Enter Product Prize: 5\n",
      "Enter product Name: pencil\n",
      "Enter Product Prize: 3\n",
      "Enter product Name: sharpner\n",
      "Enter Product Prize: 2\n",
      "Enter product Name: pen\n",
      "Enter Product Prize: 10\n",
      "Enter product Name: erazer\n",
      "Enter Product Prize: 12\n",
      "Please Enter a product name to know the prize:erazer\n",
      "The prize is Rs.  12 /-\n",
      "Enter Y to continue :Y\n",
      "Please Enter a product name to know the prize:pen\n",
      "The prize is Rs.  10 /-\n",
      "Enter Y to continue :Y\n",
      "Please Enter a product name to know the prize:sharpner\n",
      "The prize is Rs.  2 /-\n",
      "Enter Y to continue :Y\n",
      "Please Enter a product name to know the prize:rubber\n",
      "No such product\n",
      "Please Enter a product name to know the prize:erazer\n",
      "The prize is Rs.  12 /-\n",
      "Enter Y to continue :N\n"
     ]
    }
   ],
   "source": [
    "print('Please enter 5 product names and its prizes below')\n",
    "\n",
    "product_dict = {}     # This will by default create an empty dictinary, not a set\n",
    "for i in range(5):\n",
    "    name = input('Enter product Name: ')\n",
    "    prize = eval(input('Enter Product Prize: '))\n",
    "    product_dict[name] = prize\n",
    "    i += 1\n",
    "\n",
    "while 1>0:                                                     #infinite loop to keep checking prize\n",
    "    n = input('Please Enter a product name to know the prize:')\n",
    "    if n not in product_dict.keys():\n",
    "        print('No such product')\n",
    "        continue\n",
    "    print('The prize is Rs. ',product_dict[n],'/-')\n",
    "    q = input('Enter Y to continue :')\n",
    "    if q != 'Y':\n",
    "        break\n",
    "    else:\n",
    "        continue\n"
   ]
  },
  {
   "cell_type": "markdown",
   "id": "f724d293",
   "metadata": {},
   "source": [
    "### Q17. Create a dictionary where keys are name of months and days are values.\n",
    "### (a) Ask the user to input a month name and use the dictionary to tell how many days are in that month.\n",
    "### (b) Print out all the keys in alphabetical order."
   ]
  },
  {
   "cell_type": "code",
   "execution_count": 17,
   "id": "a2fb0fc4",
   "metadata": {},
   "outputs": [
    {
     "name": "stdout",
     "output_type": "stream",
     "text": [
      "Enter a Month Name: March\n",
      "The month March has 31 days\n",
      "The months in Alphabetical order\n",
      "['April', 'August', 'December', 'February', 'January', 'July', 'June', 'March', 'May', 'November', 'October', 'September']\n"
     ]
    }
   ],
   "source": [
    "dict_months_days = {'January': 30,'February': 28,'March': 31,'April': 30,'May': 31,'June': 30,'July': 31,'August': 31,\n",
    "                    'September': 30,'October': 31,'November': 30,'December': 31}\n",
    "month_list = list(dict_months_days.keys())\n",
    "\n",
    "month = input('Enter a Month Name: ')\n",
    "\n",
    "if month not in dict_months_days.keys():\n",
    "    print('Invalid Month Name')\n",
    "else:\n",
    "    print(f'The month {month} has {dict_months_days[month]} days')\n",
    "\n",
    "print('The months in Alphabetical order')\n",
    "print(sorted(month_list))\n",
    "    \n",
    "    "
   ]
  },
  {
   "cell_type": "markdown",
   "id": "ae99b8b2",
   "metadata": {},
   "source": [
    "### Q18. Ask user 5 times to enter a team name and how many times the team won and how many they lost. Store the information in a dictionary where the keys are team names and values are lists of form [wins, lossess].\n",
    "### (a) Using this dictionary, allow the user to enter a team name and print out the teams winning percentage.\n",
    "### (b) Using this dictionary, create a list whose entries are the number of winning percentage of each team."
   ]
  },
  {
   "cell_type": "code",
   "execution_count": 2,
   "id": "7dbd0634",
   "metadata": {},
   "outputs": [
    {
     "name": "stdout",
     "output_type": "stream",
     "text": [
      "Enter the team name: t1\n",
      "In how many games the team won ? : 2\n",
      "In how many games the team lost ? : 2\n",
      "Enter the team name: t2\n",
      "In how many games the team won ? : 3\n",
      "In how many games the team lost ? : 4\n",
      "Enter the team name: t3\n",
      "In how many games the team won ? : 3\n",
      "In how many games the team lost ? : 3\n",
      "Enter the team name: t4\n",
      "In how many games the team won ? : 3\n",
      "In how many games the team lost ? : 6\n",
      "Enter the team name: t5\n",
      "In how many games the team won ? : 7\n",
      "In how many games the team lost ? : 4\n",
      "\n",
      "Dictinary :  {'t1': [2, 2], 't2': [3, 4], 't3': [3, 3], 't4': [3, 6], 't5': [7, 4]}\n",
      "\n",
      "New dictionary :  {'t1': 50.0, 't2': 42.86, 't3': 50.0, 't4': 33.33, 't5': 63.64}\n",
      "Enter a team name to find the winning games percentaget4\n",
      "The winning game percentage of team t4 is 33.33\n",
      "Enter q to quit :  \n",
      "Enter a team name to find the winning games percentaget2\n",
      "The winning game percentage of team t2 is 42.86\n",
      "Enter q to quit :  \n",
      "Enter a team name to find the winning games percentageteam3\n",
      "Team name not found\n",
      "Enter a team name to find the winning games percentaget3\n",
      "The winning game percentage of team t3 is 50.0\n",
      "Enter q to quit :  q\n"
     ]
    }
   ],
   "source": [
    "dict_win_loose = {}\n",
    "dict_win_percent = {}\n",
    "\n",
    "for i in range(5):\n",
    "    team_name = input('Enter the team name: ')\n",
    "    won_games = int(input('In how many games the team won ? : '))\n",
    "    los_games = int(input('In how many games the team lost ? : '))\n",
    "    dict_win_loose[team_name] = [won_games,los_games]\n",
    "print('\\nDictinary : ',dict_win_loose)\n",
    "\n",
    "for key in dict_win_loose:\n",
    "    total_games_played = dict_win_loose[key][0] + dict_win_loose[key][1]\n",
    "    win_percentage = (dict_win_loose[key][0]/total_games_played)*100 \n",
    "    dict_win_percent[key] = round(win_percentage,2)\n",
    "print(\"\\nNew dictionary : \",dict_win_percent)  \n",
    "\n",
    "while 1>0:\n",
    "    tname = input('Enter a team name to find the winning games percentage')\n",
    "    if tname not in dict_win_percent:\n",
    "        print('Team name not found')\n",
    "        continue\n",
    "    print(f'The winning game percentage of team {tname} is {dict_win_percent[tname]}')\n",
    "    option = input('Enter q to quit :  ')\n",
    "    if option =='q':\n",
    "        break\n",
    "    else:\n",
    "        continue    "
   ]
  },
  {
   "cell_type": "markdown",
   "id": "98ae31e2",
   "metadata": {},
   "source": [
    "### Q19.Write a function call one_way that takes two strings and returns True if the strings are of the same length and differ in exactly one letter, like bike/hike or water/wafer."
   ]
  },
  {
   "cell_type": "code",
   "execution_count": 36,
   "id": "84256d0a",
   "metadata": {},
   "outputs": [
    {
     "name": "stdout",
     "output_type": "stream",
     "text": [
      "Enter 1st String: mine\n",
      "Enter 2nd String: mime\n",
      "The string are of same lenth and differ only in one character\n"
     ]
    }
   ],
   "source": [
    "def differ_in_one_char(string1,string2):\n",
    "    count =0\n",
    "    if len(string1) == len(string2):\n",
    "        for i in range(len(string1)):\n",
    "            if string1[i] == string2[i]:\n",
    "                pass\n",
    "            else:\n",
    "                count = count+1\n",
    "        if count == 1:\n",
    "            return True\n",
    "        else:\n",
    "            return False\n",
    "    else:\n",
    "        return False\n",
    "        \n",
    "        \n",
    "    \n",
    "string1 = input('Enter 1st String: ')\n",
    "string2 = input('Enter 2nd String: ')\n",
    "\n",
    "if differ_in_one_char(string1,string2):\n",
    "    print('The string are of same lenth and differ only in one character')\n",
    "else:\n",
    "    print('The strings are not meeting the condition')"
   ]
  },
  {
   "cell_type": "markdown",
   "id": "fd8c4697",
   "metadata": {},
   "source": [
    "### Q20. Recall that if s is string, then s.find('a') will find the location of fist a in s. The problem is that it does not find the location of every a. Write a function for a given a string and a single character, returns a list containing all of the locations of that character in the string. It should return an empty list if there are no occurences of the character in the string."
   ]
  },
  {
   "cell_type": "code",
   "execution_count": 16,
   "id": "79eab05b",
   "metadata": {},
   "outputs": [
    {
     "name": "stdout",
     "output_type": "stream",
     "text": [
      "Enter a string: www.google.com\n",
      "Enter a character to find all its locations in the string: o\n",
      "The locatins of o is [5, 6, 12]\n"
     ]
    }
   ],
   "source": [
    "def find_locations(string,char):    \n",
    "    index_list = list()\n",
    "    for i in range(len(string)):\n",
    "        if char == string[i]:\n",
    "            index_list.append(i)\n",
    "        i += 1\n",
    "    return index_list    \n",
    "        \n",
    "my_string = input('Enter a string: ')\n",
    "char = input('Enter a character to find all its locations in the string: ')\n",
    "if len(char) > 1 or len(char) == 0:\n",
    "    print(\"please enter only one character\")\n",
    "else:\n",
    "    index_list = find_locations(my_string,char)\n",
    "print(f'The locatins of {char} is {index_list}')"
   ]
  },
  {
   "cell_type": "markdown",
   "id": "8156ed65",
   "metadata": {},
   "source": [
    "### Q21. Explore different built in functions available on string data structure for\n",
    "\n",
    "###    - determining whether a string is alphanumeric or not\n",
    "\n",
    "###    - finding out index of a substring\n",
    "\n",
    "###    - finding out whether string is identifier or not"
   ]
  },
  {
   "cell_type": "code",
   "execution_count": 10,
   "id": "2d429d0f",
   "metadata": {},
   "outputs": [
    {
     "name": "stdout",
     "output_type": "stream",
     "text": [
      "Enter a String:amma123\n",
      "The string is alphanumdeferic\n",
      "The string is an Identifier in Python\n",
      "Enter a substring of this to find the starting location: 123\n",
      "The starting location of the substring is 4\n"
     ]
    }
   ],
   "source": [
    "my_string = input('Enter a String:')\n",
    "if my_string.isalnum():\n",
    "    print('The string is alphanumeric')\n",
    "    \n",
    "# A string is considered a valid identifier if it only contains alphanumeric letters (a-z) and (0-9), \n",
    "# or underscores (_). A valid identifier cannot start with a number, or contain any spaces.\n",
    "    \n",
    "if my_string.isidentifier():            \n",
    "    print('The string is an Identifier in Python')\n",
    "else:\n",
    "    print('The string is not an Identifier in Python')\n",
    "\n",
    "sub_string = input('Enter a substring of this to find the starting location: ')\n",
    "\n",
    "sub_index = my_string.find(sub_string)\n",
    "print('The starting location of the substring is', sub_index)\n"
   ]
  }
 ],
 "metadata": {
  "kernelspec": {
   "display_name": "Python 3",
   "language": "python",
   "name": "python3"
  },
  "language_info": {
   "codemirror_mode": {
    "name": "ipython",
    "version": 3
   },
   "file_extension": ".py",
   "mimetype": "text/x-python",
   "name": "python",
   "nbconvert_exporter": "python",
   "pygments_lexer": "ipython3",
   "version": "3.8.8"
  }
 },
 "nbformat": 4,
 "nbformat_minor": 5
}
